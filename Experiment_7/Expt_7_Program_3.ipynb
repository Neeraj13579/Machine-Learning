{
 "cells": [
  {
   "cell_type": "code",
   "execution_count": null,
   "id": "f92004f9-cd0f-4db9-b1df-e2b72d15ab53",
   "metadata": {},
   "outputs": [
    {
     "name": "stderr",
     "output_type": "stream",
     "text": [
      "C:\\Users\\NEERAJ KUMAR\\anaconda3\\Lib\\site-packages\\sklearn\\base.py:439: UserWarning: X does not have valid feature names, but LinearRegression was fitted with feature names\n",
      "  warnings.warn(\n"
     ]
    }
   ],
   "source": [
    "import tkinter as tk\n",
    "from tkinter import ttk, messagebox\n",
    "import pandas as pd\n",
    "from sklearn.datasets import load_diabetes\n",
    "from sklearn.model_selection import train_test_split\n",
    "from sklearn.linear_model import LinearRegression\n",
    "\n",
    "# Load the Diabetes dataset\n",
    "diabetes = load_diabetes()\n",
    "df = pd.DataFrame(diabetes.data, columns=diabetes.feature_names)\n",
    "df['target'] = diabetes.target\n",
    "\n",
    "# Select fewer features correctly\n",
    "X = df[['age', 'bmi', 'bp', 's5']]  # 'bp' is blood pressure and 's5' is a selected feature\n",
    "y = df['target']\n",
    "\n",
    "# Split data into training and testing sets\n",
    "X_train, X_test, y_train, y_test = train_test_split(X, y, test_size=0.2, random_state=42)\n",
    "\n",
    "# Create the GUI window\n",
    "window = tk.Tk()\n",
    "window.title(\"Diabetes Progression Prediction by Neeraj Kumar 211P065\")\n",
    "window.geometry(\"400x400\")\n",
    "\n",
    "# Create input fields for selected features\n",
    "labels = {\n",
    "    'age': \"Age (years)\",\n",
    "    'bmi': \"Body Mass Index (BMI)\",\n",
    "    'bp': \"Blood Pressure (mm Hg)\",\n",
    "    's5': \"S5 Measurement\"\n",
    "}\n",
    "\n",
    "entries = []\n",
    "for i, (key, label_text) in enumerate(labels.items()):\n",
    "    label = ttk.Label(window, text=label_text + \":\")\n",
    "    label.grid(row=i, column=0, padx=5, pady=5)\n",
    "    entry = ttk.Entry(window)\n",
    "    entry.grid(row=i, column=1, padx=5, pady=5)\n",
    "    entries.append(entry)\n",
    "\n",
    "# Create a button to predict\n",
    "def predict():\n",
    "    try:\n",
    "        # Get input values\n",
    "        input_values = [float(entry.get()) for entry in entries]\n",
    "        # Create and train the model\n",
    "        model = LinearRegression()\n",
    "        model.fit(X_train, y_train)\n",
    "        # Make prediction\n",
    "        prediction = model.predict([input_values])[0]\n",
    "        # Display prediction\n",
    "        result_label.config(text=\"Disease Progression: {:.2f}\".format(prediction))\n",
    "    except ValueError:\n",
    "        messagebox.showerror(\"Input Error\", \"Invalid input. Please enter valid numbers for all features.\")\n",
    "\n",
    "# Create a button to predict\n",
    "predict_button = ttk.Button(window, text=\"Predict\", command=predict)\n",
    "predict_button.grid(row=len(labels), column=0, columnspan=2, padx=5, pady=10)\n",
    "\n",
    "# Create a label to display the prediction\n",
    "result_label = ttk.Label(window, text=\"\")\n",
    "result_label.grid(row=len(labels) + 1, column=0, columnspan=2, padx=5, pady=5)\n",
    "\n",
    "# Create a reset button to clear inputs\n",
    "def reset():\n",
    "    for entry in entries:\n",
    "        entry.delete(0, tk.END)\n",
    "    result_label.config(text=\"\")\n",
    "\n",
    "reset_button = ttk.Button(window, text=\"Reset\", command=reset)\n",
    "reset_button.grid(row=len(labels) + 2, column=0, columnspan=2, padx=5, pady=5)\n",
    "\n",
    "# Start the GUI event loop\n",
    "window.mainloop()"
   ]
  },
  {
   "cell_type": "code",
   "execution_count": null,
   "id": "97e87673-47c4-4127-aac5-3ab71bbda07c",
   "metadata": {},
   "outputs": [],
   "source": []
  }
 ],
 "metadata": {
  "kernelspec": {
   "display_name": "Python 3 (ipykernel)",
   "language": "python",
   "name": "python3"
  },
  "language_info": {
   "codemirror_mode": {
    "name": "ipython",
    "version": 3
   },
   "file_extension": ".py",
   "mimetype": "text/x-python",
   "name": "python",
   "nbconvert_exporter": "python",
   "pygments_lexer": "ipython3",
   "version": "3.11.7"
  }
 },
 "nbformat": 4,
 "nbformat_minor": 5
}
