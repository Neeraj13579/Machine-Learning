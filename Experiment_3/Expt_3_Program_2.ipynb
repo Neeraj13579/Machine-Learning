{
 "cells": [
  {
   "cell_type": "code",
   "execution_count": 1,
   "id": "bb30d728-8e15-4bea-bb18-05961c4f42ef",
   "metadata": {},
   "outputs": [
    {
     "name": "stdout",
     "output_type": "stream",
     "text": [
      "      x     y   sum\n",
      "0   1.0   1.0   2.0\n",
      "1   4.0   4.0   8.0\n",
      "2   6.0   6.0  12.0\n",
      "3  10.0  10.0  20.0\n",
      "4  30.0  30.0  60.0\n",
      "Training score: 1.00\n",
      "Testing score: 1.00\n"
     ]
    },
    {
     "name": "stderr",
     "output_type": "stream",
     "text": [
      "C:\\Users\\NEERAJ KUMAR\\anaconda3\\Lib\\site-packages\\sklearn\\base.py:439: UserWarning: X does not have valid feature names, but LinearRegression was fitted with feature names\n",
      "  warnings.warn(\n"
     ]
    }
   ],
   "source": [
    "import pandas as pd\n",
    "import matplotlib.pyplot as plt\n",
    "from sklearn.model_selection import train_test_split\n",
    "from sklearn.linear_model import LinearRegression\n",
    "import tkinter as tk\n",
    "from tkinter import ttk\n",
    "\n",
    "# Name: Neeraj Kumar\n",
    "# UIN: 211P065\n",
    "\n",
    "# Load the dataset from the CSV file\n",
    "data = pd.read_csv('add.csv')\n",
    "\n",
    "# Display the first few rows to verify the data\n",
    "print(data.head())\n",
    "\n",
    "# Define the features (x, y) and target variable (sum)\n",
    "X = data[['x', 'y']]  # Features\n",
    "y = data['sum']       # Target variable\n",
    "\n",
    "# Split the dataset into training and testing sets\n",
    "X_train, X_test, y_train, y_test = train_test_split(X, y, test_size=0.33, random_state=42)\n",
    "\n",
    "# Create and train the linear regression model\n",
    "model = LinearRegression()\n",
    "model.fit(X_train, y_train)\n",
    "\n",
    "# Print the model's performance on the training and testing sets\n",
    "print(f\"Training score: {model.score(X_train, y_train):.2f}\")\n",
    "print(f\"Testing score: {model.score(X_test, y_test):.2f}\")\n",
    "\n",
    "# Make predictions for the test set\n",
    "y_pred = model.predict(X_test)\n",
    "\n",
    "# Define the Tkinter application class\n",
    "class AdditionApp:\n",
    "    def __init__(self, root):\n",
    "        self.root = root\n",
    "        self.root.title(\"Addition Using Multiple Linear Regression By Neeraj Kumar\")\n",
    "        self.create_widgets()\n",
    "\n",
    "    def create_widgets(self):\n",
    "        \"\"\"Create and place widgets on the Tkinter window.\"\"\"\n",
    "        \n",
    "        # Input for the first number\n",
    "        ttk.Label(self.root, text=\"Number 1:\").grid(column=0, row=0, padx=10, pady=10)\n",
    "        self.num1_var = tk.DoubleVar()\n",
    "        self.num1_entry = ttk.Entry(self.root, textvariable=self.num1_var)\n",
    "        self.num1_entry.grid(column=1, row=0, padx=10, pady=10)\n",
    "\n",
    "        # Input for the second number\n",
    "        ttk.Label(self.root, text=\"Number 2:\").grid(column=0, row=1, padx=10, pady=10)\n",
    "        self.num2_var = tk.DoubleVar()\n",
    "        self.num2_entry = ttk.Entry(self.root, textvariable=self.num2_var)\n",
    "        self.num2_entry.grid(column=1, row=1, padx=10, pady=10)\n",
    "\n",
    "        # Calculate button\n",
    "        self.calc_button = ttk.Button(self.root, text=\"Calculate\", command=self.calculate_sum)\n",
    "        self.calc_button.grid(column=0, row=2, columnspan=2, pady=10)\n",
    "\n",
    "        # Display the result\n",
    "        self.result_var = tk.StringVar()\n",
    "        ttk.Label(self.root, text=\"Result:\").grid(column=0, row=3, padx=10, pady=10)\n",
    "        self.result_label = ttk.Label(self.root, textvariable=self.result_var)\n",
    "        self.result_label.grid(column=1, row=3, padx=10, pady=10)\n",
    "\n",
    "    def calculate_sum(self):\n",
    "        \"\"\"Calculate the predicted sum based on the input numbers.\"\"\"\n",
    "        \n",
    "        # Get input values from the user\n",
    "        num1 = self.num1_var.get()\n",
    "        num2 = self.num2_var.get()\n",
    "\n",
    "        # Make a prediction using the trained model\n",
    "        prediction = model.predict([[num1, num2]])[0]\n",
    "\n",
    "        # Display the predicted result\n",
    "        self.result_var.set(f\"{prediction:.2f}\")\n",
    "\n",
    "# Create the Tkinter root window and run the application\n",
    "root = tk.Tk()\n",
    "app = AdditionApp(root)\n",
    "root.mainloop()\n"
   ]
  },
  {
   "cell_type": "code",
   "execution_count": null,
   "id": "a58f1b59-223f-4e6e-8de2-f0cc5e407223",
   "metadata": {},
   "outputs": [],
   "source": []
  }
 ],
 "metadata": {
  "kernelspec": {
   "display_name": "Python 3 (ipykernel)",
   "language": "python",
   "name": "python3"
  },
  "language_info": {
   "codemirror_mode": {
    "name": "ipython",
    "version": 3
   },
   "file_extension": ".py",
   "mimetype": "text/x-python",
   "name": "python",
   "nbconvert_exporter": "python",
   "pygments_lexer": "ipython3",
   "version": "3.11.7"
  }
 },
 "nbformat": 4,
 "nbformat_minor": 5
}
