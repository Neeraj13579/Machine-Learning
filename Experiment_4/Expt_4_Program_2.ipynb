{
 "cells": [
  {
   "cell_type": "code",
   "execution_count": 2,
   "id": "559ca36f-36d1-42ae-874b-34048f5d5c7b",
   "metadata": {},
   "outputs": [
    {
     "name": "stderr",
     "output_type": "stream",
     "text": [
      "C:\\Users\\NEERAJ KUMAR\\AppData\\Local\\Temp\\ipykernel_13760\\3491408542.py:14: SettingWithCopyWarning: \n",
      "A value is trying to be set on a copy of a slice from a DataFrame.\n",
      "Try using .loc[row_indexer,col_indexer] = value instead\n",
      "\n",
      "See the caveats in the documentation: https://pandas.pydata.org/pandas-docs/stable/user_guide/indexing.html#returning-a-view-versus-a-copy\n",
      "  X['sex'] = X['sex'].map({'male': 0, 'female': 1})  # Convert 'sex' to numerical values\n"
     ]
    }
   ],
   "source": [
    "import tkinter as tk\n",
    "from tkinter import ttk\n",
    "import pandas as pd\n",
    "from sklearn.model_selection import train_test_split\n",
    "from sklearn.linear_model import LogisticRegression\n",
    "from sklearn.metrics import classification_report\n",
    "\n",
    "# Load dataset (Assuming you have a 'titanic.csv' or similar dataset)\n",
    "# Replace this with your actual dataset and adjust column names accordingly\n",
    "data = pd.read_csv('titanic.csv')\n",
    "\n",
    "# Prepare the dataset (Example using Titanic dataset)\n",
    "X = data[['pclass', 'sex']]  # Use appropriate feature columns\n",
    "X['sex'] = X['sex'].map({'male': 0, 'female': 1})  # Convert 'sex' to numerical values\n",
    "y = data['survived']\n",
    "\n",
    "# Split the dataset\n",
    "X_train, X_test, y_train, y_test = train_test_split(X, y, test_size=0.3, random_state=42)\n",
    "\n",
    "# Train the Logistic Regression model\n",
    "model = LogisticRegression()\n",
    "model.fit(X_train, y_train)\n",
    "\n",
    "# Create the main tkinter window\n",
    "root = tk.Tk()\n",
    "root.title(\"Logistic Regression Results By Neeraj Kumar 211P065\")\n",
    "\n",
    "# Generate the classification report\n",
    "report = classification_report(y_test, model.predict(X_test), output_dict=True)\n",
    "report_text = pd.DataFrame(report).transpose().round(2).to_string()\n",
    "\n",
    "# Display the classification report\n",
    "text = tk.Text(root, height=10, width=60)\n",
    "text.insert(tk.END, report_text)\n",
    "text.pack()\n",
    "\n",
    "# Gender selection\n",
    "gender_label = tk.Label(root, text=\"Select Gender:\")\n",
    "gender_label.pack(pady=5)\n",
    "gender = ttk.Combobox(root, values=[\"male\", \"female\"])\n",
    "gender.pack(pady=5)\n",
    "\n",
    "# Passenger class selection\n",
    "pclass_label = tk.Label(root, text=\"Select Pclass:\")\n",
    "pclass_label.pack(pady=5)\n",
    "pclass = ttk.Combobox(root, values=[1, 2, 3])\n",
    "pclass.pack(pady=5)\n",
    "\n",
    "# Function to filter survivors based on gender and class\n",
    "def show_survivors():\n",
    "    filtered = data[\n",
    "        (data['sex'] == gender.get()) & \n",
    "        (data['pclass'] == int(pclass.get())) & \n",
    "        (data['survived'] == 1)\n",
    "    ]\n",
    "    result_text = f\"Survivors: {len(filtered)}\"\n",
    "    result_label.config(text=result_text)\n",
    "\n",
    "# Button to trigger the survivor filter function\n",
    "button = ttk.Button(root, text=\"Show Survivors\", command=show_survivors)\n",
    "button.pack(pady=10)\n",
    "\n",
    "# Label to display the number of survivors\n",
    "result_label = tk.Label(root, text=\"\")\n",
    "result_label.pack(pady=5)\n",
    "\n",
    "# Run the tkinter application\n",
    "root.mainloop()\n"
   ]
  },
  {
   "cell_type": "code",
   "execution_count": null,
   "id": "d2667906-40ab-433e-a57d-de5fad9147ed",
   "metadata": {},
   "outputs": [],
   "source": []
  }
 ],
 "metadata": {
  "kernelspec": {
   "display_name": "Python 3 (ipykernel)",
   "language": "python",
   "name": "python3"
  },
  "language_info": {
   "codemirror_mode": {
    "name": "ipython",
    "version": 3
   },
   "file_extension": ".py",
   "mimetype": "text/x-python",
   "name": "python",
   "nbconvert_exporter": "python",
   "pygments_lexer": "ipython3",
   "version": "3.11.7"
  }
 },
 "nbformat": 4,
 "nbformat_minor": 5
}
